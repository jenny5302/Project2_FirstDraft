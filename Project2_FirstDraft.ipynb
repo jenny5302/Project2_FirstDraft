{
 "cells": [
  {
   "cell_type": "markdown",
   "id": "091b6064",
   "metadata": {},
   "source": [
    "# Project 2"
   ]
  },
  {
   "cell_type": "markdown",
   "id": "417206c6",
   "metadata": {},
   "source": [
    "### Scientific Question: What is the hierarchical relationship between human and other non-human mammalian MAPT?\n"
   ]
  },
  {
   "cell_type": "markdown",
   "id": "c0ca9c77",
   "metadata": {},
   "source": [
    "### Scientific Hypothesis: If there are differences in susceptibility to Alzheimer's diseases between human and other non-human mammalian, then there is likely to be a specific hierarchical relationship between other tau proteins and human tau protein."
   ]
  },
  {
   "cell_type": "code",
   "execution_count": null,
   "id": "1dd91a1d",
   "metadata": {},
   "outputs": [],
   "source": []
  }
 ],
 "metadata": {
  "kernelspec": {
   "display_name": "Python 3 (ipykernel)",
   "language": "python",
   "name": "python3"
  },
  "language_info": {
   "codemirror_mode": {
    "name": "ipython",
    "version": 3
   },
   "file_extension": ".py",
   "mimetype": "text/x-python",
   "name": "python",
   "nbconvert_exporter": "python",
   "pygments_lexer": "ipython3",
   "version": "3.9.7"
  }
 },
 "nbformat": 4,
 "nbformat_minor": 5
}
